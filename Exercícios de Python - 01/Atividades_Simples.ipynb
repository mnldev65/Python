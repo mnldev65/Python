{
 "cells": [
  {
   "cell_type": "markdown",
   "id": "bb63c3c0",
   "metadata": {},
   "source": [
    "Exercício 01\n",
    "Faça um programa que mostre a mensagem \"Alo mundo\" na tela:"
   ]
  },
  {
   "cell_type": "code",
   "execution_count": 1,
   "id": "72e373bb",
   "metadata": {},
   "outputs": [
    {
     "name": "stdout",
     "output_type": "stream",
     "text": [
      "Alo mundo\n"
     ]
    }
   ],
   "source": [
    "print(\"Alo mundo\")"
   ]
  },
  {
   "cell_type": "markdown",
   "id": "f4ba5a84",
   "metadata": {},
   "source": [
    "Exercício 02\n",
    "Faça um programa que peça um número e então mostre a mensagem **\"O número informado foi [número]\"**:"
   ]
  },
  {
   "cell_type": "code",
   "execution_count": 6,
   "id": "c3c514c5",
   "metadata": {},
   "outputs": [
    {
     "name": "stdout",
     "output_type": "stream",
     "text": [
      "O número informado foi 45\n"
     ]
    }
   ],
   "source": [
    "n = int(input(\"Digite um número: \"))\n",
    "print(f\"O número informado foi {n}\")"
   ]
  },
  {
   "cell_type": "markdown",
   "id": "110af6e0",
   "metadata": {},
   "source": [
    "Exercício 03\n",
    "Faça um programa que peça dois números e imprima a soma:"
   ]
  },
  {
   "cell_type": "code",
   "execution_count": 7,
   "id": "5ce0e235",
   "metadata": {},
   "outputs": [
    {
     "name": "stdout",
     "output_type": "stream",
     "text": [
      "88\n"
     ]
    }
   ],
   "source": [
    "num1 = int(input(\"Digite um número: \"))\n",
    "num2 = int(input(\"Digite outro número: \"))\n",
    "print(num1 + num2)"
   ]
  },
  {
   "cell_type": "markdown",
   "id": "885fa328",
   "metadata": {},
   "source": [
    "Exercício 04\n",
    "Faça um programa que peça as 4 notas bimestrais e mostre a média."
   ]
  },
  {
   "cell_type": "code",
   "execution_count": null,
   "id": "f4fdf394",
   "metadata": {},
   "outputs": [],
   "source": []
  }
 ],
 "metadata": {
  "kernelspec": {
   "display_name": "Python 3",
   "language": "python",
   "name": "python3"
  },
  "language_info": {
   "codemirror_mode": {
    "name": "ipython",
    "version": 3
   },
   "file_extension": ".py",
   "mimetype": "text/x-python",
   "name": "python",
   "nbconvert_exporter": "python",
   "pygments_lexer": "ipython3",
   "version": "3.11.9"
  }
 },
 "nbformat": 4,
 "nbformat_minor": 5
}
